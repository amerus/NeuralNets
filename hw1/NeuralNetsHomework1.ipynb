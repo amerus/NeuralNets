{
  "nbformat": 4,
  "nbformat_minor": 0,
  "metadata": {
    "kernelspec": {
      "display_name": "Python 3",
      "language": "python",
      "name": "python3"
    },
    "language_info": {
      "codemirror_mode": {
        "name": "ipython",
        "version": 3
      },
      "file_extension": ".py",
      "mimetype": "text/x-python",
      "name": "python",
      "nbconvert_exporter": "python",
      "pygments_lexer": "ipython3",
      "version": "3.6.8"
    },
    "colab": {
      "name": "NeuralNetsHomework1.ipynb",
      "provenance": [],
      "collapsed_sections": []
    }
  },
  "cells": [
    {
      "cell_type": "markdown",
      "metadata": {
        "id": "4zO5SZXk25XG"
      },
      "source": [
        "## Домашнее задание\n",
        "\n",
        "1. Попробуйте видоизменить параметры разобранной на уроке двухслойной нейронной сети таким образом, чтобы улучшить ее точность (число нейронов, число эпох , можно изменять число слоев).\n",
        "2. Проведите анализ — что приводит к ухудшению точности нейронной сети? Что приводит к увеличению ее точности?"
      ]
    },
    {
      "cell_type": "code",
      "metadata": {
        "id": "AEo72K2625XD"
      },
      "source": [
        "'''\n",
        "Исходный код к уроку 1.\n",
        "Построение двухслойной нейронный сети для классификации цветков ириса\n",
        "'''\n",
        "\n",
        "import numpy as np\n",
        "import pandas as pd\n",
        "import seaborn as sns\n",
        "import matplotlib.pyplot as plt\n",
        "\n",
        "import warnings\n",
        "warnings.simplefilter(action='ignore', category=FutureWarning)\n",
        "\n",
        "# sklearn здесь только, чтобы разделить выборку на тренировочную и тестовую\n",
        "from sklearn.model_selection import train_test_split"
      ],
      "execution_count": 1,
      "outputs": []
    },
    {
      "cell_type": "code",
      "metadata": {
        "id": "L2fPzukS25XE"
      },
      "source": [
        "### Шаг 1. Определение функций, которые понадобяться для обучения\n",
        "# преобразование массива в бинарный вид результатов\n",
        "def to_one_hot(Y):\n",
        "    n_col = np.amax(Y) + 1\n",
        "    binarized = np.zeros((len(Y), n_col))\n",
        "    for i in range(len(Y)):\n",
        "        binarized[i, Y[i]] = 1.\n",
        "    return binarized\n",
        "\n",
        "# преобразование массива в необходимый вид\n",
        "def from_one_hot(Y):\n",
        "    arr = np.zeros((len(Y), 1))\n",
        "\n",
        "    for i in range(len(Y)):\n",
        "        l = Y[i]\n",
        "        for j in range(len(l)):\n",
        "            if(l[j] == 1):\n",
        "                arr[i] = j+1\n",
        "    return arr\n",
        "\n",
        "# сигмоида и ее производная\n",
        "def sigmoid(x):\n",
        "    return 1/(1+np.exp(-x))\n",
        "\n",
        "def sigmoid_deriv(x):\n",
        "    return (x)*(1 - (x))\n",
        "\n",
        "# нормализация массива\n",
        "def normalize(X, axis=-1, order=2):\n",
        "    l2 = np.atleast_1d(np.linalg.norm(X, order, axis))\n",
        "    l2[l2 == 0] = 1\n",
        "    return X / np.expand_dims(l2, axis)"
      ],
      "execution_count": 2,
      "outputs": []
    },
    {
      "cell_type": "code",
      "metadata": {
        "colab": {
          "base_uri": "https://localhost:8080/"
        },
        "id": "ZABqbSoq25XE",
        "outputId": "4489e9c7-2262-4726-ff91-84fcf1094bd6"
      },
      "source": [
        "\n",
        "### Шаг 2. Подготовка тренировочных данных\n",
        "from google.colab import drive\n",
        "drive.mount('/content/drive')\n",
        "# получения данных из csv файла. укажите здесь путь к файлу Iris.csv\n",
        "with open('/content/drive/My Drive/Colab Notebooks/Iris.csv', 'r') as f:\n",
        "    iris_data = pd.read_csv(f)\n",
        "\n",
        "# замена текстовых значений на цифровые\n",
        "iris_data['Species'].replace(['Iris-setosa', 'Iris-virginica', 'Iris-versicolor'], [0, 1, 2], inplace=True)\n",
        "\n",
        "# формирование входных данных\n",
        "columns = ['SepalLengthCm', 'SepalWidthCm', 'PetalLengthCm', 'PetalWidthCm']\n",
        "x = pd.DataFrame(iris_data, columns=columns)\n",
        "x = normalize(x.values)\n",
        "\n",
        "# формирование выходных данных(результатов)\n",
        "columns = ['Species']\n",
        "y = pd.DataFrame(iris_data, columns=columns)\n",
        "y = y.values\n",
        "y = y.flatten()\n",
        "y = to_one_hot(y)\n",
        "\n",
        "# Разделение данных на тренировочные и тестовые\n",
        "X_train, X_test, y_train, y_test = train_test_split(x, y, test_size=0.33)"
      ],
      "execution_count": 3,
      "outputs": [
        {
          "output_type": "stream",
          "text": [
            "Mounted at /content/drive\n"
          ],
          "name": "stdout"
        }
      ]
    },
    {
      "cell_type": "code",
      "metadata": {
        "id": "_PTVKh7O25XF"
      },
      "source": [
        "### Шаг 3. Обученние нейронной сети\n",
        "\n",
        "accuracies = { }\n",
        "\n",
        "# определим число нейронов скрытого слоя\n",
        "neurons = [5, 10, 15, 25]\n",
        "\n",
        "for neuron_numb in neurons:\n",
        "    # присваевание случайных весов\n",
        "    w0 = 2*np.random.random((4, neuron_numb)) - 1 # для входного слоя   - 4 входа, 3 выхода\n",
        "    w1 = 2*np.random.random((neuron_numb, 3)) - 1 # для внутреннего слоя - 5 входов, 3 выхода\n",
        "\n",
        "    # скорость обучения (learning rate)\n",
        "    speed = [0.05, 0.1, 0.15]\n",
        "    for n in speed:\n",
        "        # массив для ошибок\n",
        "        errors = []\n",
        "\n",
        "        epoch = [3000, 4000, 5000]\n",
        "        # процесс обучения\n",
        "        for epo in epoch:\n",
        "            for i in range(epo):\n",
        "\n",
        "                # прямое распространение(feed forward)\n",
        "                layer0 = X_train\n",
        "                layer1 = sigmoid(np.dot(layer0, w0))\n",
        "                layer2 = sigmoid(np.dot(layer1, w1))\n",
        "\n",
        "                # обратное распространение(back propagation) с использованием градиентного спуска\n",
        "                layer2_error = y_train - layer2 # производная функции потерь = производная квадратичных потерь \n",
        "                layer2_delta = layer2_error * sigmoid_deriv(layer2)\n",
        "    \n",
        "                layer1_error = layer2_delta.dot(w1.T)\n",
        "                layer1_delta = layer1_error * sigmoid_deriv(layer1)\n",
        "                # коррекция\n",
        "                w1 += layer1.T.dot(layer2_delta) * n\n",
        "                w0 += layer0.T.dot(layer1_delta) * n\n",
        "                # метрика модели\n",
        "                error = np.mean(np.abs(layer2_error))\n",
        "                errors.append(error)\n",
        "                accuracy = (1 - error) * 100\n",
        "            \n",
        "            ### Шаг 4. Демонстрация полученных результатов\n",
        "        \n",
        "            layer0_t = X_test\n",
        "            layer1_t = sigmoid(np.dot(layer0_t, w0))\n",
        "            layer2_t = sigmoid(np.dot(layer1_t, w1))\n",
        "            layer2_error_t = y_test - layer2_t\n",
        "\n",
        "            error_t = np.mean(np.abs(layer2_error_t))\n",
        "            accuracy_t = (1 - error_t) * 100\n",
        "            accuracies[np.round(accuracy_t,2)] = (neuron_numb, n, epo, np.round(accuracy,2))"
      ],
      "execution_count": 4,
      "outputs": []
    },
    {
      "cell_type": "code",
      "metadata": {
        "colab": {
          "base_uri": "https://localhost:8080/"
        },
        "id": "o7eHGOSWH9UP",
        "outputId": "cd665575-edba-4cb4-ac46-2c2f323e06d5"
      },
      "source": [
        "from pprint import pprint\n",
        "pprint(accuracies)"
      ],
      "execution_count": 5,
      "outputs": [
        {
          "output_type": "stream",
          "text": [
            "{94.36: (5, 0.05, 3000, 95.58),\n",
            " 94.64: (10, 0.05, 3000, 95.84),\n",
            " 94.69: (25, 0.05, 3000, 95.92),\n",
            " 94.75: (15, 0.05, 3000, 95.93),\n",
            " 95.8: (5, 0.05, 4000, 96.76),\n",
            " 95.99: (10, 0.05, 4000, 96.93),\n",
            " 96.03: (15, 0.05, 4000, 96.97),\n",
            " 96.06: (25, 0.05, 4000, 97.03),\n",
            " 96.39: (5, 0.05, 5000, 97.2),\n",
            " 96.53: (10, 0.05, 5000, 97.33),\n",
            " 96.56: (15, 0.05, 5000, 97.36),\n",
            " 96.59: (25, 0.05, 5000, 97.41),\n",
            " 96.66: (5, 0.1, 3000, 97.25),\n",
            " 96.74: (10, 0.1, 3000, 97.7),\n",
            " 96.76: (15, 0.1, 3000, 97.74),\n",
            " 96.78: (25, 0.1, 3000, 97.77),\n",
            " 96.92: (5, 0.1, 4000, 97.45),\n",
            " 96.96: (10, 0.1, 4000, 97.82),\n",
            " 96.98: (15, 0.1, 4000, 97.85),\n",
            " 97.0: (25, 0.1, 4000, 97.87),\n",
            " 97.04: (15, 0.15, 3000, 98.0),\n",
            " 97.06: (10, 0.15, 3000, 98.01),\n",
            " 97.08: (5, 0.1, 5000, 97.56),\n",
            " 97.09: (5, 0.15, 4000, 97.58),\n",
            " 97.11: (25, 0.15, 3000, 98.06),\n",
            " 97.12: (15, 0.15, 4000, 98.0),\n",
            " 97.14: (25, 0.1, 5000, 97.93),\n",
            " 97.16: (25, 0.15, 4000, 98.05),\n",
            " 97.17: (5, 0.15, 5000, 97.64),\n",
            " 97.19: (15, 0.15, 5000, 98.0),\n",
            " 97.22: (25, 0.15, 5000, 98.04)}\n"
          ],
          "name": "stdout"
        }
      ]
    },
    {
      "cell_type": "code",
      "metadata": {
        "colab": {
          "base_uri": "https://localhost:8080/"
        },
        "id": "0NrTMlstKXKn",
        "outputId": "f53711f2-f5cf-4cf4-82c2-d42c459b8f63"
      },
      "source": [
        "best = max(accuracies)\n",
        "print('Лучшее качество на тесте: {}\\nКоличество нейронов: {}\\nСкорость обучения: \\\n",
        "{}\\nКоличество эпох: {}\\nКачество на обучающей выборке: {}'\\\n",
        ".format(best, accuracies[best][0], accuracies[best][1], accuracies[best][2], accuracies[best][3]))"
      ],
      "execution_count": 6,
      "outputs": [
        {
          "output_type": "stream",
          "text": [
            "Лучшее качество на тесте: 97.22\n",
            "Количество нейронов: 25\n",
            "Скорость обучения: 0.15\n",
            "Количество эпох: 5000\n",
            "Качество на обучающей выборке: 98.04\n"
          ],
          "name": "stdout"
        }
      ]
    },
    {
      "cell_type": "markdown",
      "metadata": {
        "id": "6SNI3df0vylZ"
      },
      "source": [
        "Начиная с высоких значений epoch и speed происходит быстрое переобучение с высоким результатом на обучающей выборке и низким на тестовой. Плавное же наращивание параметров позволяет следить за переобучением, достигая более высоких результатов."
      ]
    }
  ]
}