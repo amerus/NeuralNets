{
  "nbformat": 4,
  "nbformat_minor": 0,
  "metadata": {
    "kernelspec": {
      "display_name": "Python 3",
      "language": "python",
      "name": "python3"
    },
    "language_info": {
      "codemirror_mode": {
        "name": "ipython",
        "version": 3
      },
      "file_extension": ".py",
      "mimetype": "text/x-python",
      "name": "python",
      "nbconvert_exporter": "python",
      "pygments_lexer": "ipython3",
      "version": "3.6.8"
    },
    "colab": {
      "name": "NeuralNetsHomework1.ipynb",
      "provenance": [],
      "collapsed_sections": []
    }
  },
  "cells": [
    {
      "cell_type": "markdown",
      "metadata": {
        "id": "4zO5SZXk25XG"
      },
      "source": [
        "## Домашнее задание\n",
        "\n",
        "1. Попробуйте видоизменить параметры разобранной на уроке двухслойной нейронной сети таким образом, чтобы улучшить ее точность (число нейронов, число эпох , можно изменять число слоев).\n",
        "2. Проведите анализ — что приводит к ухудшению точности нейронной сети? Что приводит к увеличению ее точности?"
      ]
    },
    {
      "cell_type": "code",
      "metadata": {
        "id": "AEo72K2625XD"
      },
      "source": [
        "'''\n",
        "Исходный код к уроку 1.\n",
        "Построение двухслойной нейронный сети для классификации цветков ириса\n",
        "'''\n",
        "\n",
        "import numpy as np\n",
        "import pandas as pd\n",
        "import seaborn as sns\n",
        "import matplotlib.pyplot as plt\n",
        "\n",
        "import warnings\n",
        "warnings.simplefilter(action='ignore', category=FutureWarning)\n",
        "\n",
        "# sklearn здесь только, чтобы разделить выборку на тренировочную и тестовую\n",
        "from sklearn.model_selection import train_test_split"
      ],
      "execution_count": 1,
      "outputs": []
    },
    {
      "cell_type": "code",
      "metadata": {
        "id": "L2fPzukS25XE"
      },
      "source": [
        "### Шаг 1. Определение функций, которые понадобяться для обучения\n",
        "# преобразование массива в бинарный вид результатов\n",
        "def to_one_hot(Y):\n",
        "    n_col = np.amax(Y) + 1\n",
        "    binarized = np.zeros((len(Y), n_col))\n",
        "    for i in range(len(Y)):\n",
        "        binarized[i, Y[i]] = 1.\n",
        "    return binarized\n",
        "\n",
        "# преобразование массива в необходимый вид\n",
        "def from_one_hot(Y):\n",
        "    arr = np.zeros((len(Y), 1))\n",
        "\n",
        "    for i in range(len(Y)):\n",
        "        l = Y[i]\n",
        "        for j in range(len(l)):\n",
        "            if(l[j] == 1):\n",
        "                arr[i] = j+1\n",
        "    return arr\n",
        "\n",
        "# сигмоида и ее производная\n",
        "def sigmoid(x):\n",
        "    return 1/(1+np.exp(-x))\n",
        "\n",
        "def sigmoid_deriv(x):\n",
        "    return (x)*(1 - (x))\n",
        "\n",
        "# нормализация массива\n",
        "def normalize(X, axis=-1, order=2):\n",
        "    l2 = np.atleast_1d(np.linalg.norm(X, order, axis))\n",
        "    l2[l2 == 0] = 1\n",
        "    return X / np.expand_dims(l2, axis)"
      ],
      "execution_count": 2,
      "outputs": []
    },
    {
      "cell_type": "code",
      "metadata": {
        "colab": {
          "base_uri": "https://localhost:8080/"
        },
        "id": "ZABqbSoq25XE",
        "outputId": "480e3223-f30d-459b-a9b1-ce18542811e7"
      },
      "source": [
        "\n",
        "### Шаг 2. Подготовка тренировочных данных\n",
        "from google.colab import drive\n",
        "drive.mount('/content/drive')\n",
        "# получения данных из csv файла. укажите здесь путь к файлу Iris.csv\n",
        "with open('/content/drive/My Drive/Colab Notebooks/Iris.csv', 'r') as f:\n",
        "    iris_data = pd.read_csv(f)\n",
        "\n",
        "# замена текстовых значений на цифровые\n",
        "iris_data['Species'].replace(['Iris-setosa', 'Iris-virginica', 'Iris-versicolor'], [0, 1, 2], inplace=True)\n",
        "\n",
        "# формирование входных данных\n",
        "columns = ['SepalLengthCm', 'SepalWidthCm', 'PetalLengthCm', 'PetalWidthCm']\n",
        "x = pd.DataFrame(iris_data, columns=columns)\n",
        "x = normalize(x.values)\n",
        "\n",
        "# формирование выходных данных(результатов)\n",
        "columns = ['Species']\n",
        "y = pd.DataFrame(iris_data, columns=columns)\n",
        "y = y.values\n",
        "y = y.flatten()\n",
        "y = to_one_hot(y)\n",
        "\n",
        "# Разделение данных на тренировочные и тестовые\n",
        "X_train, X_test, y_train, y_test = train_test_split(x, y, test_size=0.33)"
      ],
      "execution_count": 3,
      "outputs": [
        {
          "output_type": "stream",
          "text": [
            "Drive already mounted at /content/drive; to attempt to forcibly remount, call drive.mount(\"/content/drive\", force_remount=True).\n"
          ],
          "name": "stdout"
        }
      ]
    },
    {
      "cell_type": "code",
      "metadata": {
        "id": "_PTVKh7O25XF"
      },
      "source": [
        "### Шаг 3. Обученние нейронной сети\n",
        "\n",
        "accuracies = { }\n",
        "\n",
        "# определим число нейронов скрытого слоя\n",
        "neurons = [5, 10, 15]\n",
        "\n",
        "for neuron_numb in neurons:\n",
        "    # присваевание случайных весов\n",
        "    w0 = 2*np.random.random((4, neuron_numb)) - 1 # для входного слоя   - 4 входа, 3 выхода\n",
        "    w1 = 2*np.random.random((neuron_numb, 3)) - 1 # для внутреннего слоя - 5 входов, 3 выхода\n",
        "\n",
        "    # скорость обучения (learning rate)\n",
        "    speed = [0.05, 0.1, 0.15, 0.25]\n",
        "    for n in speed:\n",
        "        # массив для ошибок\n",
        "        errors = []\n",
        "\n",
        "        epoch = [3000, 5000, 7000]\n",
        "        # процесс обучения\n",
        "        for epo in epoch:\n",
        "            for i in range(epo):\n",
        "\n",
        "                # прямое распространение(feed forward)\n",
        "                layer0 = X_train\n",
        "                layer1 = sigmoid(np.dot(layer0, w0))\n",
        "                layer2 = sigmoid(np.dot(layer1, w1))\n",
        "\n",
        "                # обратное распространение(back propagation) с использованием градиентного спуска\n",
        "                layer2_error = y_train - layer2 # производная функции потерь = производная квадратичных потерь \n",
        "                layer2_delta = layer2_error * sigmoid_deriv(layer2)\n",
        "    \n",
        "                layer1_error = layer2_delta.dot(w1.T)\n",
        "                layer1_delta = layer1_error * sigmoid_deriv(layer1)\n",
        "                # коррекция\n",
        "                w1 += layer1.T.dot(layer2_delta) * n\n",
        "                w0 += layer0.T.dot(layer1_delta) * n\n",
        "                # метрика модели\n",
        "                error = np.mean(np.abs(layer2_error))\n",
        "                errors.append(error)\n",
        "                accuracy = (1 - error) * 100\n",
        "            \n",
        "            ### Шаг 4. Демонстрация полученных результатов\n",
        "        \n",
        "            layer0_t = X_test\n",
        "            layer1_t = sigmoid(np.dot(layer0_t, w0))\n",
        "            layer2_t = sigmoid(np.dot(layer1_t, w1))\n",
        "            layer2_error_t = y_test - layer2_t\n",
        "\n",
        "            error_t = np.mean(np.abs(layer2_error_t))\n",
        "            accuracy_t = (1 - error_t) * 100\n",
        "            accuracies[np.round(accuracy_t,2)] = (neuron_numb, n, epo, np.round(accuracy,2))"
      ],
      "execution_count": 4,
      "outputs": []
    },
    {
      "cell_type": "code",
      "metadata": {
        "colab": {
          "base_uri": "https://localhost:8080/"
        },
        "id": "o7eHGOSWH9UP",
        "outputId": "e8f8f48e-5aaf-4a64-c1d9-5b734b523ec6"
      },
      "source": [
        "from pprint import pprint\n",
        "pprint(accuracies)"
      ],
      "execution_count": 5,
      "outputs": [
        {
          "output_type": "stream",
          "text": [
            "{94.84: (5, 0.05, 3000, 95.98),\n",
            " 94.98: (10, 0.05, 3000, 96.11),\n",
            " 95.0: (15, 0.05, 3000, 96.09),\n",
            " 95.85: (5, 0.05, 5000, 97.44),\n",
            " 95.87: (5, 0.1, 5000, 98.35),\n",
            " 95.91: (10, 0.1, 3000, 98.28),\n",
            " 95.94: (10, 0.05, 5000, 97.54),\n",
            " 95.96: (15, 0.05, 5000, 97.53),\n",
            " 96.01: (10, 0.1, 5000, 98.24),\n",
            " 96.02: (10, 0.15, 3000, 98.31),\n",
            " 96.06: (10, 0.15, 5000, 98.46),\n",
            " 96.08: (10, 0.1, 7000, 98.45),\n",
            " 96.1: (10, 0.15, 7000, 98.62),\n",
            " 96.12: (5, 0.1, 7000, 98.45),\n",
            " 96.2: (5, 0.05, 7000, 98.05),\n",
            " 96.26: (10, 0.05, 7000, 98.12),\n",
            " 96.27: (15, 0.05, 7000, 98.11),\n",
            " 96.39: (5, 0.1, 3000, 97.84),\n",
            " 96.66: (15, 0.1, 3000, 97.84),\n",
            " 96.83: (15, 0.1, 5000, 98.07),\n",
            " 96.84: (5, 0.25, 3000, 98.05),\n",
            " 96.85: (15, 0.15, 3000, 98.12),\n",
            " 96.87: (5, 0.15, 3000, 98.06),\n",
            " 96.91: (10, 0.25, 3000, 98.23),\n",
            " 96.92: (15, 0.15, 5000, 98.32),\n",
            " 96.94: (5, 0.15, 5000, 98.24),\n",
            " 96.95: (15, 0.1, 7000, 98.3),\n",
            " 97.0: (5, 0.25, 5000, 98.34),\n",
            " 97.02: (15, 0.15, 7000, 98.94),\n",
            " 97.03: (5, 0.15, 7000, 98.46),\n",
            " 97.1: (15, 0.25, 3000, 99.49),\n",
            " 97.11: (5, 0.25, 7000, 98.99),\n",
            " 97.12: (10, 0.25, 5000, 98.72),\n",
            " 97.2: (15, 0.25, 5000, 99.69),\n",
            " 97.23: (10, 0.25, 7000, 99.66),\n",
            " 97.24: (15, 0.25, 7000, 99.79)}\n"
          ],
          "name": "stdout"
        }
      ]
    },
    {
      "cell_type": "code",
      "metadata": {
        "colab": {
          "base_uri": "https://localhost:8080/"
        },
        "id": "0NrTMlstKXKn",
        "outputId": "13593a8a-9317-4963-88ad-165f90686d8f"
      },
      "source": [
        "best = max(accuracies)\n",
        "print('Лучшее качество на тесте: {}\\nКоличество нейронов: {}\\nСкорость обучения: \\\n",
        "{}\\nКоличество эпох: {}\\nКачество на обучающей выборке: {}'\\\n",
        ".format(best, accuracies[best][0], accuracies[best][1], accuracies[best][2], accuracies[best][3]))"
      ],
      "execution_count": 11,
      "outputs": [
        {
          "output_type": "stream",
          "text": [
            "Лучшее качество на тесте: 97.24\n",
            "Количество нейронов: 15\n",
            "Скорость обучения: 0.25\n",
            "Количество эпох: 7000\n",
            "Качество на обучающей выборке: 99.79\n"
          ],
          "name": "stdout"
        }
      ]
    }
  ]
}